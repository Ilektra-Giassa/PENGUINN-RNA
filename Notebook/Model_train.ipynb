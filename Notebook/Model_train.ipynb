{
  "nbformat": 4,
  "nbformat_minor": 0,
  "metadata": {
    "colab": {
      "name": "Model_train.ipynb",
      "provenance": [],
      "collapsed_sections": []
    },
    "kernelspec": {
      "name": "python3",
      "display_name": "Python 3"
    },
    "language_info": {
      "name": "python"
    }
  },
  "cells": [
    {
      "cell_type": "markdown",
      "source": [
        "**Notebook run in https://colab.research.google.com/ **\n",
        "\n",
        "\n",
        "# Session in notebook aims to generate model for RNA Guadruplexes sequences using the CNN(Covolutional Neural Network) architecture\n",
        "\n",
        "# **General Python Modules**\n",
        "\n",
        "\n",
        "\n"
      ],
      "metadata": {
        "id": "6ClOklGrC0A-"
      }
    },
    {
      "cell_type": "code",
      "source": [
        "\n",
        "import io\n",
        "import sys\n",
        "import math\n",
        "import random\n",
        "import pandas as pd\n",
        "import glob, os\n",
        "import numpy as np\n",
        "from tensorflow import keras as K\n",
        "from sklearn.model_selection import train_test_split\n",
        "import matplotlib.pyplot as plt\n",
        "from sklearn.metrics import roc_curve, roc_auc_score\n",
        "from sklearn.metrics import precision_recall_curve\n",
        "from matplotlib.pyplot import figure\n"
      ],
      "metadata": {
        "id": "dPfeOqLGus7a"
      },
      "execution_count": null,
      "outputs": []
    },
    {
      "cell_type": "markdown",
      "source": [
        "# **Training datasets contain equal number of positives and negatives sequences**"
      ],
      "metadata": {
        "id": "_ACgeNgsCxcO"
      }
    },
    {
      "cell_type": "code",
      "source": [
        "\n",
        "# Path to the directory \n",
        "base_path = ''\n",
        "train_negative_path = base_path+ 'KPDS_1_1_train_negative.tsv'\n",
        "train_positive_path = base_path+ 'KPDS_1_1_train_positive.tsv'\n",
        "file_type='KPDS'\n",
        "\n",
        "# Reading the file\n",
        "train_negative = pd.read_csv(train_negative_path, sep='\\t', header=None)\n",
        "train_positive = pd.read_csv(train_positive_path, sep='\\t', header=None)\n",
        "\n",
        "# add labels\n",
        "train_negative[\"label\"] = \"negative\"\n",
        "train_positive[\"label\"] = \"positive\"\n",
        "\n",
        "#Combining Positive and Negative datasets\n",
        "binding_table = train_negative.append(train_positive)\n",
        "binding_table.to_csv('train_set_{file_type}_1_1'+ '.txt', sep='\\t', index=False, header=False)\n",
        "print(binding_table)\n"
      ],
      "metadata": {
        "colab": {
          "base_uri": "https://localhost:8080/"
        },
        "id": "B4BnilF5uonZ",
        "outputId": "7fcd9d51-cfe3-4757-9cdf-2e6d92cfc4d4"
      },
      "execution_count": null,
      "outputs": [
        {
          "output_type": "stream",
          "name": "stdout",
          "text": [
            "                                                      0     label\n",
            "0     gcgattcttctgcctcagcctcccaaatagctgggattacaggcgc...  negative\n",
            "1     GGAGCCCCACTAGCCTGTGCCCGGGCATGGCCTGGCAGCTCTCCAG...  negative\n",
            "2     gtaataattcccaagctggacatacataaatccaatcctattagtg...  negative\n",
            "3     CAGCTCAGCCCTGTACATATACCTGTCCCTCTCTGGCTTGGTCCCC...  negative\n",
            "4     gtgcatatgtgaagcccagaaatgcagggcagtgaaagccctcaca...  negative\n",
            "...                                                 ...       ...\n",
            "9243  TACATTAAAAGCCTGTTAGCATTCTCTAAAGCCTTTTTGTTTTCTC...  positive\n",
            "9244  cccagggtaaaacgcaagaaatcaaagatttggggataaaataaag...  positive\n",
            "9245  cagctacttcggaggttaaggcacgagaagtgcttgaacccaaggg...  positive\n",
            "9246  CTGTGGCCGGCCAGCATGAGCCAttaggatggagttgagctgcgag...  positive\n",
            "9247  CGAGATGAGCCCCCCCAGCGTCAAGATTAAGGGGAGAGCTTAAGGA...  positive\n",
            "\n",
            "[18496 rows x 2 columns]\n"
          ]
        }
      ]
    },
    {
      "cell_type": "markdown",
      "source": [
        "# **Model architecture**"
      ],
      "metadata": {
        "id": "t55AHtr_DMcO"
      }
    },
    {
      "cell_type": "code",
      "source": [
        "\n",
        "def create_architecture(\n",
        "        sequence_size=200,\n",
        "        channel=4\n",
        "):\n",
        "    \"\"\"\n",
        "  fun create the model based on sequence input\n",
        "  size.\n",
        "\n",
        "  parameters:\n",
        "  sequence_size = length of the sequence in nt\n",
        "  channel = each channel corresponds to a nucleotide.\n",
        "  \"\"\"\n",
        "    model = K.models.Sequential()\n",
        "\n",
        "    model.add(K.layers.Conv1D(\n",
        "        filters=16,\n",
        "        kernel_size=8,\n",
        "        padding='same',\n",
        "        data_format=\"channels_last\",\n",
        "        activation='relu',\n",
        "        input_shape=(sequence_size, channel)))\n",
        "\n",
        "    model.add(K.layers.BatchNormalization())\n",
        "    model.add(K.layers.MaxPooling1D())\n",
        "    model.add(K.layers.Dropout(0.3))\n",
        "\n",
        "    model.add(K.layers.Conv1D(\n",
        "        filters=8,\n",
        "        kernel_size=8,\n",
        "        padding='same',\n",
        "        data_format=\"channels_last\",\n",
        "        activation='relu'))\n",
        "\n",
        "    model.add(K.layers.BatchNormalization())\n",
        "    model.add(K.layers.MaxPooling1D())\n",
        "    model.add(K.layers.Dropout(0.3))\n",
        "\n",
        "    model.add(K.layers.Conv1D(\n",
        "        filters=4,\n",
        "        kernel_size=8,\n",
        "        padding='same',\n",
        "        data_format=\"channels_last\",\n",
        "        activation='relu'))\n",
        "\n",
        "    model.add(K.layers.BatchNormalization())\n",
        "    model.add(K.layers.MaxPooling1D())\n",
        "    model.add(K.layers.Dropout(0.3))\n",
        "\n",
        "    model.add(K.layers.Conv1D(\n",
        "        filters=3,\n",
        "        kernel_size=8,\n",
        "        padding='same',\n",
        "        data_format=\"channels_last\",\n",
        "        activation='relu'))\n",
        "\n",
        "    model.add(K.layers.BatchNormalization())\n",
        "    model.add(K.layers.MaxPooling1D())\n",
        "    model.add(K.layers.Dropout(0.3))\n",
        "\n",
        "    model.add(K.layers.Flatten())\n",
        "\n",
        "    model.add(K.layers.Dense(512, activation=\"relu\"))\n",
        "    model.add(K.layers.BatchNormalization())\n",
        "    model.add(K.layers.Dropout(0.2))\n",
        "\n",
        "    model.add(K.layers.Dense(1, activation='sigmoid'))\n",
        "\n",
        "    model.summary()\n",
        "    return model\n",
        "\n",
        "\n",
        "def compile_network(model):\n",
        "    optimizer = K.optimizers.Adam(learning_rate=0.001, beta_1=0.9, beta_2=0.999, amsgrad=False)\n",
        "\n",
        "    model.compile(\n",
        "        optimizer=optimizer,\n",
        "        loss='binary_crossentropy',\n",
        "        metrics=['accuracy']\n",
        "    )\n",
        "\n",
        "    return model"
      ],
      "metadata": {
        "id": "pmaP_WVhyEMG"
      },
      "execution_count": null,
      "outputs": []
    },
    {
      "cell_type": "code",
      "source": [
        "def compile_network(model):\n",
        "    optimizer = K.optimizers.Adam(learning_rate=0.001, beta_1=0.9, beta_2=0.999, amsgrad=False)\n",
        "\n",
        "    model.compile(\n",
        "        optimizer=optimizer,\n",
        "        loss='binary_crossentropy',\n",
        "        metrics=['accuracy']\n",
        "    )\n",
        "\n",
        "    return model"
      ],
      "metadata": {
        "id": "_XZ_HjkFyGVN"
      },
      "execution_count": null,
      "outputs": []
    },
    {
      "cell_type": "markdown",
      "source": [
        "# **Building the one hot encoding numpy array of each sample sequence**"
      ],
      "metadata": {
        "id": "_dgf6agbF4mx"
      }
    },
    {
      "cell_type": "code",
      "source": [
        "\n",
        "def sequence_to_ohe(\n",
        "        dataset,\n",
        "        sequence_size=200,\n",
        "        channel={\n",
        "            'A': 0,\n",
        "            'T': 1,\n",
        "            'C': 2,\n",
        "            'G': 3,\n",
        "            'a': 0,\n",
        "            't': 1,\n",
        "            'c': 2,\n",
        "            'g': 3\n",
        "        }\n",
        "):\n",
        "    \"\"\"\n",
        "  fun builds the one hot encoding numpy array of each\n",
        "  sample sequence.\n",
        "\n",
        "  paramenters:\n",
        "  sequence_size = can corresponds to the\n",
        "  length of the input sequences\n",
        "  (if all the same) or an arbitrary number can be defined.\n",
        "  channel = the coding of nucleotides.\n",
        "\n",
        "  \"\"\"\n",
        "\n",
        "    samples_size = len(dataset)\n",
        "    ohe_dataset = np.zeros((samples_size, sequence_size, len(set(channel.values()))))\n",
        "\n",
        "    for index, sequence in enumerate(dataset):\n",
        "        for pos, nucleotide in enumerate(sequence):\n",
        "            if nucleotide == 'N':\n",
        "                continue\n",
        "            ohe_dataset[index, pos, channel[nucleotide]] = 1\n",
        "\n",
        "    return ohe_dataset\n",
        "\n",
        "\n"
      ],
      "metadata": {
        "id": "Ep0Pv5fK5wfe"
      },
      "execution_count": null,
      "outputs": []
    },
    {
      "cell_type": "markdown",
      "source": [
        "# **Loading training datasets and performing train test split**"
      ],
      "metadata": {
        "id": "GbmvbLJ1G5zt"
      }
    },
    {
      "cell_type": "code",
      "source": [
        "filename_train= base_path+ 'train_set_{file_type}_1_1.txt'\n",
        "def load_dataset_train(filename_train):\n",
        "    \"\"\"\n",
        "    fun loads dataset from 'filename' and prepares it for training\n",
        "    It separates pseudo-randomly third of the set,\n",
        "    that can be saved for later evaluation of the model\n",
        "    :return four sets, X means sequences, y labels\n",
        "\n",
        "    \"\"\"\n",
        "\n",
        "    df = pd.read_csv(filename_train, sep='\\t', names=['sequence', 'label'])\n",
        "\n",
        "    sequence_df = sequence_to_ohe(\n",
        "        dataset=df['sequence'].tolist(),\n",
        "        sequence_size=200,\n",
        "    )\n",
        "\n",
        "    labels_df = np.array(list(map((lambda x: 1 if x == 'positive' else 0), list(df['label']))))\n",
        "\n",
        "    if sequence_df.shape[0] == labels_df.shape[0]:\n",
        "        print('dataset OK')\n",
        "    else:\n",
        "        print('sequence and label shapes are different, something went wrong...')\n",
        "\n",
        "    print(\n",
        "        'sequence_df samples',\n",
        "        sequence_df.shape,\n",
        "        'labels_df samples',\n",
        "        labels_df.shape,\n",
        "        sep='\\t'\n",
        "    )\n",
        "\n",
        "    X_train, X_test, y_train, y_test = train_test_split(\n",
        "        sequence_df, labels_df, test_size=0.33, random_state=1989)\n",
        "\n",
        "    print(\n",
        "        'X_train sequences',\n",
        "        X_train.shape[0],\n",
        "        'y_train labels',\n",
        "        y_train.shape[0],\n",
        "        sep='\\t'\n",
        "    )\n",
        "\n",
        "    print(\n",
        "        'X_test sequences',\n",
        "        X_test.shape[0],\n",
        "        'y_test labels',\n",
        "        y_test.shape[0],\n",
        "        sep='\\t'\n",
        "    )\n",
        "\n",
        "    return X_train, X_test, y_train, y_test\n",
        "\n",
        "\n"
      ],
      "metadata": {
        "id": "fFGbfvDo6Bfk"
      },
      "execution_count": null,
      "outputs": []
    },
    {
      "cell_type": "markdown",
      "source": [
        "# **Plotting the parameters, Precision-recall curve**"
      ],
      "metadata": {
        "id": "KYrAw-xMHsG4"
      }
    },
    {
      "cell_type": "code",
      "source": [
        "def draw_precision_recall_curve(model, sequences, labels):\n",
        "    probs = model.predict(sequences)\n",
        "    precision, recall, thresholds = precision_recall_curve(labels, probs)\n",
        "    plt.plot(recall, precision, marker='.', label='My model')\n",
        "    plt.xlabel('Recall')\n",
        "    plt.ylabel('Precision')\n",
        "    plt.legend(loc=\"lower center\")\n",
        "    plt.title('Precision recall curve')\n",
        "    plt.show()\n",
        "\n",
        "\n",
        "def ROC_curve(probs, labels):\n",
        "    fpr, tpr, thresholds = roc_curve(labels, probs)\n",
        "    auc_score = roc_auc_score(labels, probs)\n",
        "    print(\"AUC score: \", auc_score)\n",
        "    figure(num=None, figsize=(12, 9), dpi=80, facecolor='w', edgecolor='k')\n",
        "    plt.plot(fpr, tpr, 'blue', label='My model')\n",
        "    plt.axis([0, 1, 0, 1])\n",
        "    plt.xlabel('False Positive Rate')\n",
        "    plt.ylabel('True Positive Rate')\n",
        "    plt.legend(loc=\"lower center\")\n",
        "    plt.title('ROC curve')\n",
        "    plt.show()\n",
        "\n",
        "\n",
        "def plot_history(history):\n",
        "    \"\"\"\n",
        "    fun plots history of the training of the model,\n",
        "    accuracy and loss of the training and validation set\n",
        "\n",
        "    \"\"\"\n",
        "    acc = history.history['accuracy']\n",
        "    val_acc = history.history['val_accuracy']\n",
        "    loss = history.history['loss']\n",
        "    val_loss = history.history['val_loss']\n",
        "\n",
        "    epochs = range(1, len(acc) + 1)\n",
        "\n",
        "    plt.plot(epochs, acc, 'bo', label='Training acc')\n",
        "    plt.plot(epochs, val_acc, 'b', label='Validation acc')\n",
        "    plt.title('Accuracy')\n",
        "    plt.legend()\n",
        "    plt.figure()\n",
        "\n",
        "    plt.plot(epochs, loss, 'bo', label='Training loss')\n",
        "    plt.plot(epochs, val_loss, 'b', label='Validation loss')\n",
        "    plt.title('Loss')\n",
        "    plt.legend()\n",
        "    plt.show()\n",
        "\n",
        "\n",
        "def main():\n",
        "    X_train, X_test, y_train, y_test = load_dataset_train(f'/content/train_set_{filetype}_1_1.txt')\n",
        "    model = create_architecture(sequence_size=200, channel=4)\n",
        "    model = compile_network(model=model)\n",
        "\n",
        "    history = model.fit(\n",
        "        X_train,\n",
        "        y_train,\n",
        "        batch_size=32,\n",
        "        epochs=15,\n",
        "        validation_split=0.2\n",
        "    )\n",
        "\n",
        "    plot_history(history)\n",
        "\n",
        "    metrics = model.evaluate(\n",
        "        X_test,\n",
        "        y_test,\n",
        "        verbose=0\n",
        "    )\n",
        "\n",
        "    print('model evaluation on unknown dataset [loss, accuracy]:', metrics)\n",
        "    (model, X_test, y_test)\n",
        "\n",
        "    model.save('model_{filetype}_1_1.h5')\n",
        "\n",
        "\n",
        "main()"
      ],
      "metadata": {
        "colab": {
          "base_uri": "https://localhost:8080/",
          "height": 1000
        },
        "id": "pDt1eWui6Jz3",
        "outputId": "bf764997-cdbd-4ec6-e29d-2d01fc0ab8d3"
      },
      "execution_count": null,
      "outputs": [
        {
          "output_type": "stream",
          "name": "stdout",
          "text": [
            "dataset OK\n",
            "sequence_df samples\t(18496, 200, 4)\tlabels_df samples\t(18496,)\n",
            "X_train sequences\t12392\ty_train labels\t12392\n",
            "X_test sequences\t6104\ty_test labels\t6104\n",
            "Model: \"sequential_1\"\n",
            "_________________________________________________________________\n",
            " Layer (type)                Output Shape              Param #   \n",
            "=================================================================\n",
            " conv1d_4 (Conv1D)           (None, 200, 16)           528       \n",
            "                                                                 \n",
            " batch_normalization_5 (Batc  (None, 200, 16)          64        \n",
            " hNormalization)                                                 \n",
            "                                                                 \n",
            " max_pooling1d_4 (MaxPooling  (None, 100, 16)          0         \n",
            " 1D)                                                             \n",
            "                                                                 \n",
            " dropout_5 (Dropout)         (None, 100, 16)           0         \n",
            "                                                                 \n",
            " conv1d_5 (Conv1D)           (None, 100, 8)            1032      \n",
            "                                                                 \n",
            " batch_normalization_6 (Batc  (None, 100, 8)           32        \n",
            " hNormalization)                                                 \n",
            "                                                                 \n",
            " max_pooling1d_5 (MaxPooling  (None, 50, 8)            0         \n",
            " 1D)                                                             \n",
            "                                                                 \n",
            " dropout_6 (Dropout)         (None, 50, 8)             0         \n",
            "                                                                 \n",
            " conv1d_6 (Conv1D)           (None, 50, 4)             260       \n",
            "                                                                 \n",
            " batch_normalization_7 (Batc  (None, 50, 4)            16        \n",
            " hNormalization)                                                 \n",
            "                                                                 \n",
            " max_pooling1d_6 (MaxPooling  (None, 25, 4)            0         \n",
            " 1D)                                                             \n",
            "                                                                 \n",
            " dropout_7 (Dropout)         (None, 25, 4)             0         \n",
            "                                                                 \n",
            " conv1d_7 (Conv1D)           (None, 25, 3)             99        \n",
            "                                                                 \n",
            " batch_normalization_8 (Batc  (None, 25, 3)            12        \n",
            " hNormalization)                                                 \n",
            "                                                                 \n",
            " max_pooling1d_7 (MaxPooling  (None, 12, 3)            0         \n",
            " 1D)                                                             \n",
            "                                                                 \n",
            " dropout_8 (Dropout)         (None, 12, 3)             0         \n",
            "                                                                 \n",
            " flatten_1 (Flatten)         (None, 36)                0         \n",
            "                                                                 \n",
            " dense_2 (Dense)             (None, 512)               18944     \n",
            "                                                                 \n",
            " batch_normalization_9 (Batc  (None, 512)              2048      \n",
            " hNormalization)                                                 \n",
            "                                                                 \n",
            " dropout_9 (Dropout)         (None, 512)               0         \n",
            "                                                                 \n",
            " dense_3 (Dense)             (None, 1)                 513       \n",
            "                                                                 \n",
            "=================================================================\n",
            "Total params: 23,548\n",
            "Trainable params: 22,462\n",
            "Non-trainable params: 1,086\n",
            "_________________________________________________________________\n",
            "Epoch 1/15\n",
            "310/310 [==============================] - 9s 21ms/step - loss: 0.5865 - accuracy: 0.7229 - val_loss: 0.4698 - val_accuracy: 0.7971\n",
            "Epoch 2/15\n",
            "310/310 [==============================] - 6s 21ms/step - loss: 0.4346 - accuracy: 0.8216 - val_loss: 0.3721 - val_accuracy: 0.8584\n",
            "Epoch 3/15\n",
            "310/310 [==============================] - 6s 19ms/step - loss: 0.3948 - accuracy: 0.8474 - val_loss: 0.3348 - val_accuracy: 0.8766\n",
            "Epoch 4/15\n",
            "310/310 [==============================] - 6s 20ms/step - loss: 0.3713 - accuracy: 0.8585 - val_loss: 0.3308 - val_accuracy: 0.8749\n",
            "Epoch 5/15\n",
            "310/310 [==============================] - 6s 20ms/step - loss: 0.3611 - accuracy: 0.8681 - val_loss: 0.3235 - val_accuracy: 0.8754\n",
            "Epoch 6/15\n",
            "310/310 [==============================] - 6s 20ms/step - loss: 0.3527 - accuracy: 0.8687 - val_loss: 0.3229 - val_accuracy: 0.8802\n",
            "Epoch 7/15\n",
            "310/310 [==============================] - 6s 20ms/step - loss: 0.3522 - accuracy: 0.8687 - val_loss: 0.3145 - val_accuracy: 0.8802\n",
            "Epoch 8/15\n",
            "310/310 [==============================] - 6s 19ms/step - loss: 0.3432 - accuracy: 0.8763 - val_loss: 0.3248 - val_accuracy: 0.8814\n",
            "Epoch 9/15\n",
            "310/310 [==============================] - 6s 21ms/step - loss: 0.3423 - accuracy: 0.8725 - val_loss: 0.3250 - val_accuracy: 0.8733\n",
            "Epoch 10/15\n",
            "310/310 [==============================] - 6s 20ms/step - loss: 0.3347 - accuracy: 0.8768 - val_loss: 0.3085 - val_accuracy: 0.8842\n",
            "Epoch 11/15\n",
            "310/310 [==============================] - 6s 20ms/step - loss: 0.3308 - accuracy: 0.8785 - val_loss: 0.3240 - val_accuracy: 0.8802\n",
            "Epoch 12/15\n",
            "310/310 [==============================] - 6s 20ms/step - loss: 0.3296 - accuracy: 0.8776 - val_loss: 0.3031 - val_accuracy: 0.8846\n",
            "Epoch 13/15\n",
            "310/310 [==============================] - 6s 20ms/step - loss: 0.3259 - accuracy: 0.8819 - val_loss: 0.3057 - val_accuracy: 0.8818\n",
            "Epoch 14/15\n",
            "310/310 [==============================] - 7s 21ms/step - loss: 0.3237 - accuracy: 0.8822 - val_loss: 0.3016 - val_accuracy: 0.8846\n",
            "Epoch 15/15\n",
            "310/310 [==============================] - 7s 21ms/step - loss: 0.3211 - accuracy: 0.8787 - val_loss: 0.3049 - val_accuracy: 0.8846\n"
          ]
        },
        {
          "output_type": "display_data",
          "data": {
            "text/plain": [
              "<Figure size 432x288 with 1 Axes>"
            ],
            "image/png": "[encoded data removed]"
          },
          "metadata": {
            "needs_background": "light"
          }
        },
        {
          "output_type": "display_data",
          "data": {
            "text/plain": [
              "<Figure size 432x288 with 1 Axes>"
            ],
            "image/png": "[encoded data removed]"
          },
          "metadata": {
            "needs_background": "light"
          }
        },
        {
          "output_type": "stream",
          "name": "stdout",
          "text": [
            "model evaluation on unknown dataset [loss, accuracy]: [0.28551727533340454, 0.8976081013679504]\n"
          ]
        }
      ]
    },
    {
      "cell_type": "markdown",
      "source": [
        "# **Loading test datasets and test split**"
      ],
      "metadata": {
        "id": "K6AGDBAJJBFT"
      }
    },
    {
      "cell_type": "code",
      "source": [
        "base_path = ''\n",
        "test_negative_path = base_path+ 'KPDS_1_1_test_negative.tsv'\n",
        "test_positive_path = base_path+ 'KPDS_1_1_test_positive.tsv'\n",
        "file_type='KPDS'\n",
        "\n",
        "\n",
        "test_negative = pd.read_csv(test_negative_path, sep='\\t', header=None)\n",
        "test_positive = pd.read_csv(test_positive_path, sep='\\t', header=None)\n",
        "\n",
        "# add labels\n",
        "test_negative[\"label\"] = \"negative\"\n",
        "test_positive[\"label\"] = \"positive\"\n",
        "\n",
        "binding_table_test= test_negative.append(test_positive)\n",
        "binding_table_test.to_csv('test_set_{file_type}_1_1' + '.txt', sep='\\t', index=False, header=False)\n",
        "\n",
        "\n",
        "filename_test= base_path+ 'test_set_{filetype}_1_1.txt'\n",
        "def load_dataset_test(filename_test):\n",
        "    \"\"\"\n",
        "    fun loads dataset from 'filename' and prepares it for test\n",
        "    :return four sets, X means sequences, y labels\n",
        "\n",
        "    \"\"\"\n",
        "\n",
        "    df = pd.read_csv(filename_test, sep='\\t', names=['sequence', 'label'])\n",
        "\n",
        "    sequence_df = sequence_to_ohe(\n",
        "        dataset=df['sequence'].tolist(),\n",
        "        sequence_size=200,\n",
        "    )\n",
        "\n",
        "    labels_df = np.array(list(map((lambda x: 1 if x == 'positive' else 0), list(df['label']))))\n",
        "\n",
        "    X_eval=sequence_df \n",
        "    y_eval=labels_df\n",
        "\n",
        "\n",
        "    if sequence_df.shape[0] == labels_df.shape[0]:\n",
        "        print('dataset OK')\n",
        "    else:\n",
        "        print('sequence and label shapes are different, something went wrong...')\n",
        "\n",
        "    print(\n",
        "        'sequence_df samples',\n",
        "        sequence_df.shape,\n",
        "        'labels_df samples',\n",
        "        labels_df.shape,\n",
        "        sep='\\t'\n",
        "    )\n",
        "\n",
        "\n",
        "    print(\n",
        "        'X_eval sequences',\n",
        "        X_eval.shape[0],\n",
        "        'y_test labels',\n",
        "        y_eval.shape[0],\n",
        "        sep='\\t'\n",
        "    )\n",
        "\n",
        "    return X_eval, y_eval\n",
        "\n"
      ],
      "metadata": {
        "id": "HBdLNxCPIy-s"
      },
      "execution_count": null,
      "outputs": []
    },
    {
      "cell_type": "markdown",
      "source": [
        "# **Validation of testset and precision recall curve**"
      ],
      "metadata": {
        "id": "hdF1GiJRf6oG"
      }
    },
    {
      "cell_type": "code",
      "source": [
        "from sklearn.metrics import precision_recall_curve\n",
        "from sklearn.metrics import plot_precision_recall_curve\n",
        "import matplotlib.pyplot as plt\n",
        "\n",
        "def main():\n",
        "  X_eval,y_eval= load_dataset_test('/content/test_set_{file_type}_1_1.txt')\n",
        "  test = K.models.load_model('model_{file_type}_1_1.h5')\n",
        "  met = test.evaluate(\n",
        "        X_eval,\n",
        "        y_eval,\n",
        "        verbose=0\n",
        "        )\n",
        "  print('model evaluation on matric dataset [loss, accuracy]:', met)\n",
        "  draw_precision_recall_curve(test,X_eval, y_eval)\n",
        "\n",
        "main()"
      ],
      "metadata": {
        "colab": {
          "base_uri": "https://localhost:8080/",
          "height": 365
        },
        "id": "IR1dowtabobU",
        "outputId": "abf2c5f9-acf3-4979-9358-f4016da0a915"
      },
      "execution_count": null,
      "outputs": [
        {
          "output_type": "stream",
          "name": "stdout",
          "text": [
            "dataset OK\n",
            "sequence_df samples\t(5000, 200, 4)\tlabels_df samples\t(5000,)\n",
            "X_eval sequences\t5000\ty_test labels\t5000\n",
            "model evaluation on matric dataset [loss, accuracy]: [0.21604794263839722, 0.9351999759674072]\n"
          ]
        },
        {
          "output_type": "display_data",
          "data": {
            "text/plain": [
              "<Figure size 432x288 with 1 Axes>"
            ],
            "image/png": "[encoded data removed]"
          },
          "metadata": {
            "needs_background": "light"
          }
        }
      ]
    },
    {
      "cell_type": "markdown",
      "source": [
        ""
      ],
      "metadata": {
        "id": "8Pf7ItxbHpK0"
      }
    }
  ]
}